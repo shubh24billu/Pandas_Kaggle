{
 "cells": [
  {
   "cell_type": "markdown",
   "id": "337fb70a",
   "metadata": {
    "papermill": {
     "duration": 0.005804,
     "end_time": "2022-09-14T14:40:16.651081",
     "exception": false,
     "start_time": "2022-09-14T14:40:16.645277",
     "status": "completed"
    },
    "tags": []
   },
   "source": [
    "**This notebook is an exercise in the [Pandas](https://www.kaggle.com/learn/pandas) course.  You can reference the tutorial at [this link](https://www.kaggle.com/residentmario/data-types-and-missing-values).**\n",
    "\n",
    "---\n"
   ]
  },
  {
   "cell_type": "markdown",
   "id": "d0f92bea",
   "metadata": {
    "papermill": {
     "duration": 0.004177,
     "end_time": "2022-09-14T14:40:16.660079",
     "exception": false,
     "start_time": "2022-09-14T14:40:16.655902",
     "status": "completed"
    },
    "tags": []
   },
   "source": [
    "# Introduction\n",
    "\n",
    "Run the following cell to load your data and some utility functions."
   ]
  },
  {
   "cell_type": "code",
   "execution_count": 1,
   "id": "e8cac366",
   "metadata": {
    "execution": {
     "iopub.execute_input": "2022-09-14T14:40:16.672362Z",
     "iopub.status.busy": "2022-09-14T14:40:16.670939Z",
     "iopub.status.idle": "2022-09-14T14:40:19.748689Z",
     "shell.execute_reply": "2022-09-14T14:40:19.747416Z"
    },
    "papermill": {
     "duration": 3.087213,
     "end_time": "2022-09-14T14:40:19.751836",
     "exception": false,
     "start_time": "2022-09-14T14:40:16.664623",
     "status": "completed"
    },
    "tags": []
   },
   "outputs": [
    {
     "name": "stdout",
     "output_type": "stream",
     "text": [
      "Setup complete.\n"
     ]
    }
   ],
   "source": [
    "import pandas as pd\n",
    "\n",
    "reviews = pd.read_csv(\"../input/wine-reviews/winemag-data-130k-v2.csv\", index_col=0)\n",
    "\n",
    "from learntools.core import binder; binder.bind(globals())\n",
    "from learntools.pandas.data_types_and_missing_data import *\n",
    "print(\"Setup complete.\")"
   ]
  },
  {
   "cell_type": "markdown",
   "id": "36c51af2",
   "metadata": {
    "papermill": {
     "duration": 0.005787,
     "end_time": "2022-09-14T14:40:19.762524",
     "exception": false,
     "start_time": "2022-09-14T14:40:19.756737",
     "status": "completed"
    },
    "tags": []
   },
   "source": [
    "# Exercises"
   ]
  },
  {
   "cell_type": "markdown",
   "id": "26c0e554",
   "metadata": {
    "papermill": {
     "duration": 0.004423,
     "end_time": "2022-09-14T14:40:19.771749",
     "exception": false,
     "start_time": "2022-09-14T14:40:19.767326",
     "status": "completed"
    },
    "tags": []
   },
   "source": [
    "## 1. \n",
    "What is the data type of the `points` column in the dataset?"
   ]
  },
  {
   "cell_type": "code",
   "execution_count": 2,
   "id": "0abb10cf",
   "metadata": {
    "execution": {
     "iopub.execute_input": "2022-09-14T14:40:19.783137Z",
     "iopub.status.busy": "2022-09-14T14:40:19.782669Z",
     "iopub.status.idle": "2022-09-14T14:40:19.798113Z",
     "shell.execute_reply": "2022-09-14T14:40:19.796784Z"
    },
    "papermill": {
     "duration": 0.024379,
     "end_time": "2022-09-14T14:40:19.800789",
     "exception": false,
     "start_time": "2022-09-14T14:40:19.776410",
     "status": "completed"
    },
    "tags": []
   },
   "outputs": [
    {
     "data": {
      "application/javascript": [
       "parent.postMessage({\"jupyterEvent\": \"custom.exercise_interaction\", \"data\": {\"outcomeType\": 1, \"valueTowardsCompletion\": 0.25, \"interactionType\": 1, \"questionType\": 1, \"questionId\": \"1_PointsDtype\", \"learnToolsVersion\": \"0.3.4\", \"failureMessage\": \"\", \"exceptionClass\": \"\", \"trace\": \"\"}}, \"*\")"
      ],
      "text/plain": [
       "<IPython.core.display.Javascript object>"
      ]
     },
     "metadata": {},
     "output_type": "display_data"
    },
    {
     "data": {
      "text/markdown": [
       "<span style=\"color:#33cc33\">Correct</span>"
      ],
      "text/plain": [
       "Correct"
      ]
     },
     "metadata": {},
     "output_type": "display_data"
    }
   ],
   "source": [
    "# Your code here\n",
    "dtype = reviews['points'].dtype\n",
    "\n",
    "# Check your answer\n",
    "q1.check()"
   ]
  },
  {
   "cell_type": "code",
   "execution_count": 3,
   "id": "9a7d71bd",
   "metadata": {
    "execution": {
     "iopub.execute_input": "2022-09-14T14:40:19.813455Z",
     "iopub.status.busy": "2022-09-14T14:40:19.812685Z",
     "iopub.status.idle": "2022-09-14T14:40:19.818298Z",
     "shell.execute_reply": "2022-09-14T14:40:19.816393Z"
    },
    "papermill": {
     "duration": 0.015721,
     "end_time": "2022-09-14T14:40:19.821606",
     "exception": false,
     "start_time": "2022-09-14T14:40:19.805885",
     "status": "completed"
    },
    "tags": []
   },
   "outputs": [],
   "source": [
    "#q1.hint()\n",
    "#q1.solution()"
   ]
  },
  {
   "cell_type": "markdown",
   "id": "7cf61b12",
   "metadata": {
    "papermill": {
     "duration": 0.004703,
     "end_time": "2022-09-14T14:40:19.832196",
     "exception": false,
     "start_time": "2022-09-14T14:40:19.827493",
     "status": "completed"
    },
    "tags": []
   },
   "source": [
    "## 2. \n",
    "Create a Series from entries in the `points` column, but convert the entries to strings. Hint: strings are `str` in native Python."
   ]
  },
  {
   "cell_type": "code",
   "execution_count": 4,
   "id": "ddf45bfd",
   "metadata": {
    "execution": {
     "iopub.execute_input": "2022-09-14T14:40:19.843878Z",
     "iopub.status.busy": "2022-09-14T14:40:19.843418Z",
     "iopub.status.idle": "2022-09-14T14:40:19.929722Z",
     "shell.execute_reply": "2022-09-14T14:40:19.928357Z"
    },
    "papermill": {
     "duration": 0.095508,
     "end_time": "2022-09-14T14:40:19.932599",
     "exception": false,
     "start_time": "2022-09-14T14:40:19.837091",
     "status": "completed"
    },
    "tags": []
   },
   "outputs": [
    {
     "data": {
      "application/javascript": [
       "parent.postMessage({\"jupyterEvent\": \"custom.exercise_interaction\", \"data\": {\"outcomeType\": 1, \"valueTowardsCompletion\": 0.25, \"interactionType\": 1, \"questionType\": 1, \"questionId\": \"2_StrPoints\", \"learnToolsVersion\": \"0.3.4\", \"failureMessage\": \"\", \"exceptionClass\": \"\", \"trace\": \"\"}}, \"*\")"
      ],
      "text/plain": [
       "<IPython.core.display.Javascript object>"
      ]
     },
     "metadata": {},
     "output_type": "display_data"
    },
    {
     "data": {
      "text/markdown": [
       "<span style=\"color:#33cc33\">Correct</span>"
      ],
      "text/plain": [
       "Correct"
      ]
     },
     "metadata": {},
     "output_type": "display_data"
    }
   ],
   "source": [
    "point_strings = reviews.points.astype(str)\n",
    "\n",
    "# Check your answer\n",
    "q2.check()"
   ]
  },
  {
   "cell_type": "code",
   "execution_count": 5,
   "id": "cbaacb21",
   "metadata": {
    "execution": {
     "iopub.execute_input": "2022-09-14T14:40:19.945528Z",
     "iopub.status.busy": "2022-09-14T14:40:19.944806Z",
     "iopub.status.idle": "2022-09-14T14:40:19.950054Z",
     "shell.execute_reply": "2022-09-14T14:40:19.948728Z"
    },
    "papermill": {
     "duration": 0.014394,
     "end_time": "2022-09-14T14:40:19.952506",
     "exception": false,
     "start_time": "2022-09-14T14:40:19.938112",
     "status": "completed"
    },
    "tags": []
   },
   "outputs": [],
   "source": [
    "#q2.hint()\n",
    "#q2.solution()"
   ]
  },
  {
   "cell_type": "markdown",
   "id": "e54ed3e6",
   "metadata": {
    "papermill": {
     "duration": 0.004997,
     "end_time": "2022-09-14T14:40:19.962768",
     "exception": false,
     "start_time": "2022-09-14T14:40:19.957771",
     "status": "completed"
    },
    "tags": []
   },
   "source": [
    "## 3.\n",
    "Sometimes the price column is null. How many reviews in the dataset are missing a price?"
   ]
  },
  {
   "cell_type": "code",
   "execution_count": 6,
   "id": "934a3e77",
   "metadata": {
    "execution": {
     "iopub.execute_input": "2022-09-14T14:40:19.975313Z",
     "iopub.status.busy": "2022-09-14T14:40:19.974893Z",
     "iopub.status.idle": "2022-09-14T14:40:19.992554Z",
     "shell.execute_reply": "2022-09-14T14:40:19.991540Z"
    },
    "papermill": {
     "duration": 0.027035,
     "end_time": "2022-09-14T14:40:19.995194",
     "exception": false,
     "start_time": "2022-09-14T14:40:19.968159",
     "status": "completed"
    },
    "tags": []
   },
   "outputs": [
    {
     "data": {
      "application/javascript": [
       "parent.postMessage({\"jupyterEvent\": \"custom.exercise_interaction\", \"data\": {\"outcomeType\": 1, \"valueTowardsCompletion\": 0.25, \"interactionType\": 1, \"questionType\": 1, \"questionId\": \"3_CountMissingPrices\", \"learnToolsVersion\": \"0.3.4\", \"failureMessage\": \"\", \"exceptionClass\": \"\", \"trace\": \"\"}}, \"*\")"
      ],
      "text/plain": [
       "<IPython.core.display.Javascript object>"
      ]
     },
     "metadata": {},
     "output_type": "display_data"
    },
    {
     "data": {
      "text/markdown": [
       "<span style=\"color:#33cc33\">Correct</span>"
      ],
      "text/plain": [
       "Correct"
      ]
     },
     "metadata": {},
     "output_type": "display_data"
    }
   ],
   "source": [
    "n_missing_prices = len(reviews[reviews.price.isnull()])\n",
    "\n",
    "# Check your answer\n",
    "q3.check()"
   ]
  },
  {
   "cell_type": "code",
   "execution_count": 7,
   "id": "06e6b5cb",
   "metadata": {
    "execution": {
     "iopub.execute_input": "2022-09-14T14:40:20.008111Z",
     "iopub.status.busy": "2022-09-14T14:40:20.007252Z",
     "iopub.status.idle": "2022-09-14T14:40:20.013095Z",
     "shell.execute_reply": "2022-09-14T14:40:20.011581Z"
    },
    "papermill": {
     "duration": 0.015334,
     "end_time": "2022-09-14T14:40:20.015920",
     "exception": false,
     "start_time": "2022-09-14T14:40:20.000586",
     "status": "completed"
    },
    "tags": []
   },
   "outputs": [],
   "source": [
    "#q3.hint()\n",
    "#q3.solution()"
   ]
  },
  {
   "cell_type": "markdown",
   "id": "157d79ec",
   "metadata": {
    "papermill": {
     "duration": 0.005004,
     "end_time": "2022-09-14T14:40:20.026362",
     "exception": false,
     "start_time": "2022-09-14T14:40:20.021358",
     "status": "completed"
    },
    "tags": []
   },
   "source": [
    "## 4.\n",
    "What are the most common wine-producing regions? Create a Series counting the number of times each value occurs in the `region_1` field. This field is often missing data, so replace missing values with `Unknown`. Sort in descending order.  Your output should look something like this:\n",
    "\n",
    "```\n",
    "Unknown                    21247\n",
    "Napa Valley                 4480\n",
    "                           ...  \n",
    "Bardolino Superiore            1\n",
    "Primitivo del Tarantino        1\n",
    "Name: region_1, Length: 1230, dtype: int64\n",
    "```"
   ]
  },
  {
   "cell_type": "code",
   "execution_count": 8,
   "id": "c1045ebb",
   "metadata": {
    "execution": {
     "iopub.execute_input": "2022-09-14T14:40:20.039237Z",
     "iopub.status.busy": "2022-09-14T14:40:20.038792Z",
     "iopub.status.idle": "2022-09-14T14:40:20.084240Z",
     "shell.execute_reply": "2022-09-14T14:40:20.082494Z"
    },
    "papermill": {
     "duration": 0.05626,
     "end_time": "2022-09-14T14:40:20.087903",
     "exception": false,
     "start_time": "2022-09-14T14:40:20.031643",
     "status": "completed"
    },
    "tags": []
   },
   "outputs": [
    {
     "data": {
      "application/javascript": [
       "parent.postMessage({\"jupyterEvent\": \"custom.exercise_interaction\", \"data\": {\"outcomeType\": 1, \"valueTowardsCompletion\": 0.25, \"interactionType\": 1, \"questionType\": 2, \"questionId\": \"4_ReviewsPerRegion\", \"learnToolsVersion\": \"0.3.4\", \"failureMessage\": \"\", \"exceptionClass\": \"\", \"trace\": \"\"}}, \"*\")"
      ],
      "text/plain": [
       "<IPython.core.display.Javascript object>"
      ]
     },
     "metadata": {},
     "output_type": "display_data"
    },
    {
     "data": {
      "text/markdown": [
       "<span style=\"color:#33cc33\">Correct</span>"
      ],
      "text/plain": [
       "Correct"
      ]
     },
     "metadata": {},
     "output_type": "display_data"
    }
   ],
   "source": [
    "reviews_per_region = reviews.region_1.fillna('Unknown').value_counts().sort_values(ascending=False)\n",
    "\n",
    "# Check your answer\n",
    "q4.check()"
   ]
  },
  {
   "cell_type": "code",
   "execution_count": 9,
   "id": "96ad822e",
   "metadata": {
    "execution": {
     "iopub.execute_input": "2022-09-14T14:40:20.102151Z",
     "iopub.status.busy": "2022-09-14T14:40:20.101696Z",
     "iopub.status.idle": "2022-09-14T14:40:20.107234Z",
     "shell.execute_reply": "2022-09-14T14:40:20.105863Z"
    },
    "papermill": {
     "duration": 0.015823,
     "end_time": "2022-09-14T14:40:20.110208",
     "exception": false,
     "start_time": "2022-09-14T14:40:20.094385",
     "status": "completed"
    },
    "tags": []
   },
   "outputs": [],
   "source": [
    "#q4.hint()\n",
    "#q4.solution()"
   ]
  },
  {
   "cell_type": "markdown",
   "id": "032bfebd",
   "metadata": {
    "papermill": {
     "duration": 0.005722,
     "end_time": "2022-09-14T14:40:20.121518",
     "exception": false,
     "start_time": "2022-09-14T14:40:20.115796",
     "status": "completed"
    },
    "tags": []
   },
   "source": [
    "# Keep going\n",
    "\n",
    "Move on to **[renaming and combining](https://www.kaggle.com/residentmario/renaming-and-combining)**."
   ]
  },
  {
   "cell_type": "markdown",
   "id": "c7bf6e4d",
   "metadata": {
    "papermill": {
     "duration": 0.005225,
     "end_time": "2022-09-14T14:40:20.132471",
     "exception": false,
     "start_time": "2022-09-14T14:40:20.127246",
     "status": "completed"
    },
    "tags": []
   },
   "source": [
    "---\n",
    "\n",
    "\n",
    "\n",
    "\n",
    "*Have questions or comments? Visit the [course discussion forum](https://www.kaggle.com/learn/pandas/discussion) to chat with other learners.*"
   ]
  }
 ],
 "metadata": {
  "kernelspec": {
   "display_name": "Python 3",
   "language": "python",
   "name": "python3"
  },
  "language_info": {
   "codemirror_mode": {
    "name": "ipython",
    "version": 3
   },
   "file_extension": ".py",
   "mimetype": "text/x-python",
   "name": "python",
   "nbconvert_exporter": "python",
   "pygments_lexer": "ipython3",
   "version": "3.7.12"
  },
  "papermill": {
   "default_parameters": {},
   "duration": 14.971337,
   "end_time": "2022-09-14T14:40:20.965256",
   "environment_variables": {},
   "exception": null,
   "input_path": "__notebook__.ipynb",
   "output_path": "__notebook__.ipynb",
   "parameters": {},
   "start_time": "2022-09-14T14:40:05.993919",
   "version": "2.3.4"
  }
 },
 "nbformat": 4,
 "nbformat_minor": 5
}
