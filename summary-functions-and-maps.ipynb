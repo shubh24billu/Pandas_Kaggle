{
 "cells": [
  {
   "cell_type": "markdown",
   "id": "94fda3e8",
   "metadata": {
    "papermill": {
     "duration": 0.007402,
     "end_time": "2022-09-13T15:34:44.012732",
     "exception": false,
     "start_time": "2022-09-13T15:34:44.005330",
     "status": "completed"
    },
    "tags": []
   },
   "source": [
    "**This notebook is an exercise in the [Pandas](https://www.kaggle.com/learn/pandas) course.  You can reference the tutorial at [this link](https://www.kaggle.com/residentmario/summary-functions-and-maps).**\n",
    "\n",
    "---\n"
   ]
  },
  {
   "cell_type": "markdown",
   "id": "b140f593",
   "metadata": {
    "papermill": {
     "duration": 0.005883,
     "end_time": "2022-09-13T15:34:44.025035",
     "exception": false,
     "start_time": "2022-09-13T15:34:44.019152",
     "status": "completed"
    },
    "tags": []
   },
   "source": [
    "# Introduction\n",
    "\n",
    "Now you are ready to get a deeper understanding of your data.\n",
    "\n",
    "Run the following cell to load your data and some utility functions (including code to check your answers)."
   ]
  },
  {
   "cell_type": "code",
   "execution_count": 1,
   "id": "2f3e3046",
   "metadata": {
    "execution": {
     "iopub.execute_input": "2022-09-13T15:34:44.039273Z",
     "iopub.status.busy": "2022-09-13T15:34:44.038835Z",
     "iopub.status.idle": "2022-09-13T15:34:51.067638Z",
     "shell.execute_reply": "2022-09-13T15:34:51.065931Z"
    },
    "papermill": {
     "duration": 7.04064,
     "end_time": "2022-09-13T15:34:51.071840",
     "exception": false,
     "start_time": "2022-09-13T15:34:44.031200",
     "status": "completed"
    },
    "tags": []
   },
   "outputs": [
    {
     "name": "stdout",
     "output_type": "stream",
     "text": [
      "Setup complete.\n"
     ]
    },
    {
     "data": {
      "text/html": [
       "<div>\n",
       "<style scoped>\n",
       "    .dataframe tbody tr th:only-of-type {\n",
       "        vertical-align: middle;\n",
       "    }\n",
       "\n",
       "    .dataframe tbody tr th {\n",
       "        vertical-align: top;\n",
       "    }\n",
       "\n",
       "    .dataframe thead th {\n",
       "        text-align: right;\n",
       "    }\n",
       "</style>\n",
       "<table border=\"1\" class=\"dataframe\">\n",
       "  <thead>\n",
       "    <tr style=\"text-align: right;\">\n",
       "      <th></th>\n",
       "      <th>country</th>\n",
       "      <th>description</th>\n",
       "      <th>designation</th>\n",
       "      <th>points</th>\n",
       "      <th>price</th>\n",
       "      <th>province</th>\n",
       "      <th>region_1</th>\n",
       "      <th>region_2</th>\n",
       "      <th>taster_name</th>\n",
       "      <th>taster_twitter_handle</th>\n",
       "      <th>title</th>\n",
       "      <th>variety</th>\n",
       "      <th>winery</th>\n",
       "    </tr>\n",
       "  </thead>\n",
       "  <tbody>\n",
       "    <tr>\n",
       "      <th>0</th>\n",
       "      <td>Italy</td>\n",
       "      <td>Aromas include tropical fruit, broom, brimston...</td>\n",
       "      <td>Vulkà Bianco</td>\n",
       "      <td>87</td>\n",
       "      <td>NaN</td>\n",
       "      <td>Sicily &amp; Sardinia</td>\n",
       "      <td>Etna</td>\n",
       "      <td>NaN</td>\n",
       "      <td>Kerin O’Keefe</td>\n",
       "      <td>@kerinokeefe</td>\n",
       "      <td>Nicosia 2013 Vulkà Bianco  (Etna)</td>\n",
       "      <td>White Blend</td>\n",
       "      <td>Nicosia</td>\n",
       "    </tr>\n",
       "    <tr>\n",
       "      <th>1</th>\n",
       "      <td>Portugal</td>\n",
       "      <td>This is ripe and fruity, a wine that is smooth...</td>\n",
       "      <td>Avidagos</td>\n",
       "      <td>87</td>\n",
       "      <td>15.0</td>\n",
       "      <td>Douro</td>\n",
       "      <td>NaN</td>\n",
       "      <td>NaN</td>\n",
       "      <td>Roger Voss</td>\n",
       "      <td>@vossroger</td>\n",
       "      <td>Quinta dos Avidagos 2011 Avidagos Red (Douro)</td>\n",
       "      <td>Portuguese Red</td>\n",
       "      <td>Quinta dos Avidagos</td>\n",
       "    </tr>\n",
       "    <tr>\n",
       "      <th>2</th>\n",
       "      <td>US</td>\n",
       "      <td>Tart and snappy, the flavors of lime flesh and...</td>\n",
       "      <td>NaN</td>\n",
       "      <td>87</td>\n",
       "      <td>14.0</td>\n",
       "      <td>Oregon</td>\n",
       "      <td>Willamette Valley</td>\n",
       "      <td>Willamette Valley</td>\n",
       "      <td>Paul Gregutt</td>\n",
       "      <td>@paulgwine</td>\n",
       "      <td>Rainstorm 2013 Pinot Gris (Willamette Valley)</td>\n",
       "      <td>Pinot Gris</td>\n",
       "      <td>Rainstorm</td>\n",
       "    </tr>\n",
       "    <tr>\n",
       "      <th>3</th>\n",
       "      <td>US</td>\n",
       "      <td>Pineapple rind, lemon pith and orange blossom ...</td>\n",
       "      <td>Reserve Late Harvest</td>\n",
       "      <td>87</td>\n",
       "      <td>13.0</td>\n",
       "      <td>Michigan</td>\n",
       "      <td>Lake Michigan Shore</td>\n",
       "      <td>NaN</td>\n",
       "      <td>Alexander Peartree</td>\n",
       "      <td>NaN</td>\n",
       "      <td>St. Julian 2013 Reserve Late Harvest Riesling ...</td>\n",
       "      <td>Riesling</td>\n",
       "      <td>St. Julian</td>\n",
       "    </tr>\n",
       "    <tr>\n",
       "      <th>4</th>\n",
       "      <td>US</td>\n",
       "      <td>Much like the regular bottling from 2012, this...</td>\n",
       "      <td>Vintner's Reserve Wild Child Block</td>\n",
       "      <td>87</td>\n",
       "      <td>65.0</td>\n",
       "      <td>Oregon</td>\n",
       "      <td>Willamette Valley</td>\n",
       "      <td>Willamette Valley</td>\n",
       "      <td>Paul Gregutt</td>\n",
       "      <td>@paulgwine</td>\n",
       "      <td>Sweet Cheeks 2012 Vintner's Reserve Wild Child...</td>\n",
       "      <td>Pinot Noir</td>\n",
       "      <td>Sweet Cheeks</td>\n",
       "    </tr>\n",
       "  </tbody>\n",
       "</table>\n",
       "</div>"
      ],
      "text/plain": [
       "    country                                        description  \\\n",
       "0     Italy  Aromas include tropical fruit, broom, brimston...   \n",
       "1  Portugal  This is ripe and fruity, a wine that is smooth...   \n",
       "2        US  Tart and snappy, the flavors of lime flesh and...   \n",
       "3        US  Pineapple rind, lemon pith and orange blossom ...   \n",
       "4        US  Much like the regular bottling from 2012, this...   \n",
       "\n",
       "                          designation  points  price           province  \\\n",
       "0                        Vulkà Bianco      87    NaN  Sicily & Sardinia   \n",
       "1                            Avidagos      87   15.0              Douro   \n",
       "2                                 NaN      87   14.0             Oregon   \n",
       "3                Reserve Late Harvest      87   13.0           Michigan   \n",
       "4  Vintner's Reserve Wild Child Block      87   65.0             Oregon   \n",
       "\n",
       "              region_1           region_2         taster_name  \\\n",
       "0                 Etna                NaN       Kerin O’Keefe   \n",
       "1                  NaN                NaN          Roger Voss   \n",
       "2    Willamette Valley  Willamette Valley        Paul Gregutt   \n",
       "3  Lake Michigan Shore                NaN  Alexander Peartree   \n",
       "4    Willamette Valley  Willamette Valley        Paul Gregutt   \n",
       "\n",
       "  taster_twitter_handle                                              title  \\\n",
       "0          @kerinokeefe                  Nicosia 2013 Vulkà Bianco  (Etna)   \n",
       "1            @vossroger      Quinta dos Avidagos 2011 Avidagos Red (Douro)   \n",
       "2           @paulgwine       Rainstorm 2013 Pinot Gris (Willamette Valley)   \n",
       "3                   NaN  St. Julian 2013 Reserve Late Harvest Riesling ...   \n",
       "4           @paulgwine   Sweet Cheeks 2012 Vintner's Reserve Wild Child...   \n",
       "\n",
       "          variety               winery  \n",
       "0     White Blend              Nicosia  \n",
       "1  Portuguese Red  Quinta dos Avidagos  \n",
       "2      Pinot Gris            Rainstorm  \n",
       "3        Riesling           St. Julian  \n",
       "4      Pinot Noir         Sweet Cheeks  "
      ]
     },
     "execution_count": 1,
     "metadata": {},
     "output_type": "execute_result"
    }
   ],
   "source": [
    "import pandas as pd\n",
    "pd.set_option(\"display.max_rows\", 5)\n",
    "reviews = pd.read_csv(\"../input/wine-reviews/winemag-data-130k-v2.csv\", index_col=0)\n",
    "\n",
    "from learntools.core import binder; binder.bind(globals())\n",
    "from learntools.pandas.summary_functions_and_maps import *\n",
    "print(\"Setup complete.\")\n",
    "\n",
    "reviews.head()"
   ]
  },
  {
   "cell_type": "markdown",
   "id": "8acede22",
   "metadata": {
    "papermill": {
     "duration": 0.006278,
     "end_time": "2022-09-13T15:34:51.085488",
     "exception": false,
     "start_time": "2022-09-13T15:34:51.079210",
     "status": "completed"
    },
    "tags": []
   },
   "source": [
    "# Exercises"
   ]
  },
  {
   "cell_type": "markdown",
   "id": "dc3caee9",
   "metadata": {
    "papermill": {
     "duration": 0.006134,
     "end_time": "2022-09-13T15:34:51.098099",
     "exception": false,
     "start_time": "2022-09-13T15:34:51.091965",
     "status": "completed"
    },
    "tags": []
   },
   "source": [
    "## 1.\n",
    "\n",
    "What is the median of the `points` column in the `reviews` DataFrame?"
   ]
  },
  {
   "cell_type": "code",
   "execution_count": 2,
   "id": "f4d74c48",
   "metadata": {
    "execution": {
     "iopub.execute_input": "2022-09-13T15:34:51.112831Z",
     "iopub.status.busy": "2022-09-13T15:34:51.112400Z",
     "iopub.status.idle": "2022-09-13T15:34:51.125074Z",
     "shell.execute_reply": "2022-09-13T15:34:51.123933Z"
    },
    "papermill": {
     "duration": 0.022962,
     "end_time": "2022-09-13T15:34:51.127540",
     "exception": false,
     "start_time": "2022-09-13T15:34:51.104578",
     "status": "completed"
    },
    "tags": []
   },
   "outputs": [
    {
     "data": {
      "application/javascript": [
       "parent.postMessage({\"jupyterEvent\": \"custom.exercise_interaction\", \"data\": {\"outcomeType\": 1, \"valueTowardsCompletion\": 0.14285714285714285, \"interactionType\": 1, \"questionType\": 1, \"questionId\": \"1_MedianPoints\", \"learnToolsVersion\": \"0.3.4\", \"failureMessage\": \"\", \"exceptionClass\": \"\", \"trace\": \"\"}}, \"*\")"
      ],
      "text/plain": [
       "<IPython.core.display.Javascript object>"
      ]
     },
     "metadata": {},
     "output_type": "display_data"
    },
    {
     "data": {
      "text/markdown": [
       "<span style=\"color:#33cc33\">Correct</span>"
      ],
      "text/plain": [
       "Correct"
      ]
     },
     "metadata": {},
     "output_type": "display_data"
    }
   ],
   "source": [
    "median_points = reviews.points.median()\n",
    "\n",
    "# Check your answer\n",
    "q1.check()"
   ]
  },
  {
   "cell_type": "code",
   "execution_count": 3,
   "id": "c660e060",
   "metadata": {
    "execution": {
     "iopub.execute_input": "2022-09-13T15:34:51.143540Z",
     "iopub.status.busy": "2022-09-13T15:34:51.143080Z",
     "iopub.status.idle": "2022-09-13T15:34:51.149920Z",
     "shell.execute_reply": "2022-09-13T15:34:51.148813Z"
    },
    "papermill": {
     "duration": 0.017294,
     "end_time": "2022-09-13T15:34:51.152195",
     "exception": false,
     "start_time": "2022-09-13T15:34:51.134901",
     "status": "completed"
    },
    "tags": []
   },
   "outputs": [
    {
     "data": {
      "text/plain": [
       "88.0"
      ]
     },
     "execution_count": 3,
     "metadata": {},
     "output_type": "execute_result"
    }
   ],
   "source": [
    "median_points"
   ]
  },
  {
   "cell_type": "code",
   "execution_count": 4,
   "id": "94af036e",
   "metadata": {
    "execution": {
     "iopub.execute_input": "2022-09-13T15:34:51.168171Z",
     "iopub.status.busy": "2022-09-13T15:34:51.167791Z",
     "iopub.status.idle": "2022-09-13T15:34:51.171824Z",
     "shell.execute_reply": "2022-09-13T15:34:51.170655Z"
    },
    "papermill": {
     "duration": 0.014956,
     "end_time": "2022-09-13T15:34:51.174196",
     "exception": false,
     "start_time": "2022-09-13T15:34:51.159240",
     "status": "completed"
    },
    "tags": []
   },
   "outputs": [],
   "source": [
    "#q1.hint()\n",
    "#q1.solution()"
   ]
  },
  {
   "cell_type": "markdown",
   "id": "79d0915c",
   "metadata": {
    "papermill": {
     "duration": 0.007145,
     "end_time": "2022-09-13T15:34:51.188306",
     "exception": false,
     "start_time": "2022-09-13T15:34:51.181161",
     "status": "completed"
    },
    "tags": []
   },
   "source": [
    "## 2. \n",
    "What countries are represented in the dataset? (Your answer should not include any duplicates.)"
   ]
  },
  {
   "cell_type": "code",
   "execution_count": 5,
   "id": "23815a05",
   "metadata": {
    "execution": {
     "iopub.execute_input": "2022-09-13T15:34:51.204162Z",
     "iopub.status.busy": "2022-09-13T15:34:51.203779Z",
     "iopub.status.idle": "2022-09-13T15:34:51.220369Z",
     "shell.execute_reply": "2022-09-13T15:34:51.219123Z"
    },
    "papermill": {
     "duration": 0.027255,
     "end_time": "2022-09-13T15:34:51.222514",
     "exception": false,
     "start_time": "2022-09-13T15:34:51.195259",
     "status": "completed"
    },
    "tags": []
   },
   "outputs": [
    {
     "data": {
      "application/javascript": [
       "parent.postMessage({\"jupyterEvent\": \"custom.exercise_interaction\", \"data\": {\"outcomeType\": 1, \"valueTowardsCompletion\": 0.14285714285714285, \"interactionType\": 1, \"questionType\": 2, \"questionId\": \"2_UniqueCountries\", \"learnToolsVersion\": \"0.3.4\", \"failureMessage\": \"\", \"exceptionClass\": \"\", \"trace\": \"\"}}, \"*\")"
      ],
      "text/plain": [
       "<IPython.core.display.Javascript object>"
      ]
     },
     "metadata": {},
     "output_type": "display_data"
    },
    {
     "data": {
      "text/markdown": [
       "<span style=\"color:#33cc33\">Correct</span>"
      ],
      "text/plain": [
       "Correct"
      ]
     },
     "metadata": {},
     "output_type": "display_data"
    }
   ],
   "source": [
    "countries = reviews.country.unique()\n",
    "\n",
    "# Check your answer\n",
    "q2.check()"
   ]
  },
  {
   "cell_type": "code",
   "execution_count": 6,
   "id": "0e3788bf",
   "metadata": {
    "execution": {
     "iopub.execute_input": "2022-09-13T15:34:51.238859Z",
     "iopub.status.busy": "2022-09-13T15:34:51.238414Z",
     "iopub.status.idle": "2022-09-13T15:34:51.242991Z",
     "shell.execute_reply": "2022-09-13T15:34:51.241836Z"
    },
    "papermill": {
     "duration": 0.015532,
     "end_time": "2022-09-13T15:34:51.245247",
     "exception": false,
     "start_time": "2022-09-13T15:34:51.229715",
     "status": "completed"
    },
    "tags": []
   },
   "outputs": [],
   "source": [
    "#q2.hint()\n",
    "#q2.solution()"
   ]
  },
  {
   "cell_type": "markdown",
   "id": "473186be",
   "metadata": {
    "papermill": {
     "duration": 0.006741,
     "end_time": "2022-09-13T15:34:51.259122",
     "exception": false,
     "start_time": "2022-09-13T15:34:51.252381",
     "status": "completed"
    },
    "tags": []
   },
   "source": [
    "## 3.\n",
    "How often does each country appear in the dataset? Create a Series `reviews_per_country` mapping countries to the count of reviews of wines from that country."
   ]
  },
  {
   "cell_type": "code",
   "execution_count": 7,
   "id": "a1e43260",
   "metadata": {
    "execution": {
     "iopub.execute_input": "2022-09-13T15:34:51.275675Z",
     "iopub.status.busy": "2022-09-13T15:34:51.275244Z",
     "iopub.status.idle": "2022-09-13T15:34:51.292532Z",
     "shell.execute_reply": "2022-09-13T15:34:51.291227Z"
    },
    "papermill": {
     "duration": 0.028914,
     "end_time": "2022-09-13T15:34:51.295065",
     "exception": false,
     "start_time": "2022-09-13T15:34:51.266151",
     "status": "completed"
    },
    "tags": []
   },
   "outputs": [
    {
     "data": {
      "application/javascript": [
       "parent.postMessage({\"jupyterEvent\": \"custom.exercise_interaction\", \"data\": {\"outcomeType\": 1, \"valueTowardsCompletion\": 0.14285714285714285, \"interactionType\": 1, \"questionType\": 1, \"questionId\": \"3_ReviewsPerCountry\", \"learnToolsVersion\": \"0.3.4\", \"failureMessage\": \"\", \"exceptionClass\": \"\", \"trace\": \"\"}}, \"*\")"
      ],
      "text/plain": [
       "<IPython.core.display.Javascript object>"
      ]
     },
     "metadata": {},
     "output_type": "display_data"
    },
    {
     "data": {
      "text/markdown": [
       "<span style=\"color:#33cc33\">Correct</span>"
      ],
      "text/plain": [
       "Correct"
      ]
     },
     "metadata": {},
     "output_type": "display_data"
    }
   ],
   "source": [
    "reviews_per_country = reviews.country.value_counts()\n",
    "\n",
    "# Check your answer\n",
    "q3.check()"
   ]
  },
  {
   "cell_type": "code",
   "execution_count": 8,
   "id": "d52426ec",
   "metadata": {
    "execution": {
     "iopub.execute_input": "2022-09-13T15:34:51.312470Z",
     "iopub.status.busy": "2022-09-13T15:34:51.311349Z",
     "iopub.status.idle": "2022-09-13T15:34:51.316309Z",
     "shell.execute_reply": "2022-09-13T15:34:51.315204Z"
    },
    "papermill": {
     "duration": 0.016267,
     "end_time": "2022-09-13T15:34:51.318684",
     "exception": false,
     "start_time": "2022-09-13T15:34:51.302417",
     "status": "completed"
    },
    "tags": []
   },
   "outputs": [],
   "source": [
    "#q3.hint()\n",
    "#q3.solution()"
   ]
  },
  {
   "cell_type": "markdown",
   "id": "0dbcc3be",
   "metadata": {
    "papermill": {
     "duration": 0.007099,
     "end_time": "2022-09-13T15:34:51.333167",
     "exception": false,
     "start_time": "2022-09-13T15:34:51.326068",
     "status": "completed"
    },
    "tags": []
   },
   "source": [
    "## 4.\n",
    "Create variable `centered_price` containing a version of the `price` column with the mean price subtracted.\n",
    "\n",
    "(Note: this 'centering' transformation is a common preprocessing step before applying various machine learning algorithms.) "
   ]
  },
  {
   "cell_type": "code",
   "execution_count": 9,
   "id": "6ddd68e5",
   "metadata": {
    "execution": {
     "iopub.execute_input": "2022-09-13T15:34:51.349512Z",
     "iopub.status.busy": "2022-09-13T15:34:51.349086Z",
     "iopub.status.idle": "2022-09-13T15:34:51.360886Z",
     "shell.execute_reply": "2022-09-13T15:34:51.359736Z"
    },
    "papermill": {
     "duration": 0.022596,
     "end_time": "2022-09-13T15:34:51.363126",
     "exception": false,
     "start_time": "2022-09-13T15:34:51.340530",
     "status": "completed"
    },
    "tags": []
   },
   "outputs": [
    {
     "data": {
      "application/javascript": [
       "parent.postMessage({\"jupyterEvent\": \"custom.exercise_interaction\", \"data\": {\"outcomeType\": 1, \"valueTowardsCompletion\": 0.14285714285714285, \"interactionType\": 1, \"questionType\": 1, \"questionId\": \"4_CenteredPrice\", \"learnToolsVersion\": \"0.3.4\", \"failureMessage\": \"\", \"exceptionClass\": \"\", \"trace\": \"\"}}, \"*\")"
      ],
      "text/plain": [
       "<IPython.core.display.Javascript object>"
      ]
     },
     "metadata": {},
     "output_type": "display_data"
    },
    {
     "data": {
      "text/markdown": [
       "<span style=\"color:#33cc33\">Correct</span>"
      ],
      "text/plain": [
       "Correct"
      ]
     },
     "metadata": {},
     "output_type": "display_data"
    }
   ],
   "source": [
    "centered_price = reviews.price - reviews.price.mean()\n",
    "\n",
    "# Check your answer\n",
    "q4.check()"
   ]
  },
  {
   "cell_type": "code",
   "execution_count": 10,
   "id": "27500aef",
   "metadata": {
    "execution": {
     "iopub.execute_input": "2022-09-13T15:34:51.380775Z",
     "iopub.status.busy": "2022-09-13T15:34:51.380362Z",
     "iopub.status.idle": "2022-09-13T15:34:51.384406Z",
     "shell.execute_reply": "2022-09-13T15:34:51.383346Z"
    },
    "papermill": {
     "duration": 0.015846,
     "end_time": "2022-09-13T15:34:51.386779",
     "exception": false,
     "start_time": "2022-09-13T15:34:51.370933",
     "status": "completed"
    },
    "tags": []
   },
   "outputs": [],
   "source": [
    "#q4.hint()\n",
    "#q4.solution()"
   ]
  },
  {
   "cell_type": "markdown",
   "id": "0d12eaf8",
   "metadata": {
    "papermill": {
     "duration": 0.007342,
     "end_time": "2022-09-13T15:34:51.401997",
     "exception": false,
     "start_time": "2022-09-13T15:34:51.394655",
     "status": "completed"
    },
    "tags": []
   },
   "source": [
    "## 5.\n",
    "I'm an economical wine buyer. Which wine is the \"best bargain\"? Create a variable `bargain_wine` with the title of the wine with the highest points-to-price ratio in the dataset."
   ]
  },
  {
   "cell_type": "code",
   "execution_count": 11,
   "id": "34016d32",
   "metadata": {
    "execution": {
     "iopub.execute_input": "2022-09-13T15:34:51.419142Z",
     "iopub.status.busy": "2022-09-13T15:34:51.418696Z",
     "iopub.status.idle": "2022-09-13T15:34:51.432643Z",
     "shell.execute_reply": "2022-09-13T15:34:51.431508Z"
    },
    "papermill": {
     "duration": 0.02521,
     "end_time": "2022-09-13T15:34:51.434926",
     "exception": false,
     "start_time": "2022-09-13T15:34:51.409716",
     "status": "completed"
    },
    "tags": []
   },
   "outputs": [
    {
     "data": {
      "application/javascript": [
       "parent.postMessage({\"jupyterEvent\": \"custom.exercise_interaction\", \"data\": {\"outcomeType\": 1, \"valueTowardsCompletion\": 0.14285714285714285, \"interactionType\": 1, \"questionType\": 2, \"questionId\": \"5_BargainWine\", \"learnToolsVersion\": \"0.3.4\", \"failureMessage\": \"\", \"exceptionClass\": \"\", \"trace\": \"\"}}, \"*\")"
      ],
      "text/plain": [
       "<IPython.core.display.Javascript object>"
      ]
     },
     "metadata": {},
     "output_type": "display_data"
    },
    {
     "data": {
      "text/markdown": [
       "<span style=\"color:#33cc33\">Correct</span>"
      ],
      "text/plain": [
       "Correct"
      ]
     },
     "metadata": {},
     "output_type": "display_data"
    }
   ],
   "source": [
    "bargain_idx = (reviews.points / reviews.price).idxmax()\n",
    "bargain_wine = reviews.loc[bargain_idx, 'title']\n",
    "\n",
    "# Check your answer\n",
    "q5.check()"
   ]
  },
  {
   "cell_type": "code",
   "execution_count": 12,
   "id": "b7ee2c2f",
   "metadata": {
    "execution": {
     "iopub.execute_input": "2022-09-13T15:34:51.452500Z",
     "iopub.status.busy": "2022-09-13T15:34:51.452098Z",
     "iopub.status.idle": "2022-09-13T15:34:51.456936Z",
     "shell.execute_reply": "2022-09-13T15:34:51.455843Z"
    },
    "papermill": {
     "duration": 0.016337,
     "end_time": "2022-09-13T15:34:51.459244",
     "exception": false,
     "start_time": "2022-09-13T15:34:51.442907",
     "status": "completed"
    },
    "tags": []
   },
   "outputs": [],
   "source": [
    "#q5.hint()\n",
    "#q5.solution()"
   ]
  },
  {
   "cell_type": "markdown",
   "id": "2ea40385",
   "metadata": {
    "papermill": {
     "duration": 0.007622,
     "end_time": "2022-09-13T15:34:51.474863",
     "exception": false,
     "start_time": "2022-09-13T15:34:51.467241",
     "status": "completed"
    },
    "tags": []
   },
   "source": [
    "## 6.\n",
    "There are only so many words you can use when describing a bottle of wine. Is a wine more likely to be \"tropical\" or \"fruity\"? Create a Series `descriptor_counts` counting how many times each of these two words appears in the `description` column in the dataset. (For simplicity, let's ignore the capitalized versions of these words.)"
   ]
  },
  {
   "cell_type": "code",
   "execution_count": 13,
   "id": "56a80605",
   "metadata": {
    "execution": {
     "iopub.execute_input": "2022-09-13T15:34:51.492186Z",
     "iopub.status.busy": "2022-09-13T15:34:51.491794Z",
     "iopub.status.idle": "2022-09-13T15:34:51.637620Z",
     "shell.execute_reply": "2022-09-13T15:34:51.636520Z"
    },
    "papermill": {
     "duration": 0.157334,
     "end_time": "2022-09-13T15:34:51.640045",
     "exception": false,
     "start_time": "2022-09-13T15:34:51.482711",
     "status": "completed"
    },
    "tags": []
   },
   "outputs": [
    {
     "data": {
      "application/javascript": [
       "parent.postMessage({\"jupyterEvent\": \"custom.exercise_interaction\", \"data\": {\"outcomeType\": 1, \"valueTowardsCompletion\": 0.14285714285714285, \"interactionType\": 1, \"questionType\": 1, \"questionId\": \"6_DescriptorCounts\", \"learnToolsVersion\": \"0.3.4\", \"failureMessage\": \"\", \"exceptionClass\": \"\", \"trace\": \"\"}}, \"*\")"
      ],
      "text/plain": [
       "<IPython.core.display.Javascript object>"
      ]
     },
     "metadata": {},
     "output_type": "display_data"
    },
    {
     "data": {
      "text/markdown": [
       "<span style=\"color:#33cc33\">Correct</span>"
      ],
      "text/plain": [
       "Correct"
      ]
     },
     "metadata": {},
     "output_type": "display_data"
    }
   ],
   "source": [
    "n_trop = reviews.description.map(lambda desc: \"tropical\" in desc).sum()\n",
    "n_fruity = reviews.description.map(lambda desc: \"fruity\" in desc).sum()\n",
    "descriptor_counts = pd.Series([n_trop, n_fruity], index=['tropical', 'fruity'])\n",
    "\n",
    "# Check your answer\n",
    "q6.check()"
   ]
  },
  {
   "cell_type": "code",
   "execution_count": 14,
   "id": "3a6f6cfc",
   "metadata": {
    "execution": {
     "iopub.execute_input": "2022-09-13T15:34:51.658401Z",
     "iopub.status.busy": "2022-09-13T15:34:51.657632Z",
     "iopub.status.idle": "2022-09-13T15:34:51.662239Z",
     "shell.execute_reply": "2022-09-13T15:34:51.661142Z"
    },
    "papermill": {
     "duration": 0.01654,
     "end_time": "2022-09-13T15:34:51.664703",
     "exception": false,
     "start_time": "2022-09-13T15:34:51.648163",
     "status": "completed"
    },
    "tags": []
   },
   "outputs": [],
   "source": [
    "#q6.hint()\n",
    "#q6.solution()"
   ]
  },
  {
   "cell_type": "markdown",
   "id": "b8dd427d",
   "metadata": {
    "papermill": {
     "duration": 0.007845,
     "end_time": "2022-09-13T15:34:51.680903",
     "exception": false,
     "start_time": "2022-09-13T15:34:51.673058",
     "status": "completed"
    },
    "tags": []
   },
   "source": [
    "## 7.\n",
    "We'd like to host these wine reviews on our website, but a rating system ranging from 80 to 100 points is too hard to understand - we'd like to translate them into simple star ratings. A score of 95 or higher counts as 3 stars, a score of at least 85 but less than 95 is 2 stars. Any other score is 1 star.\n",
    "\n",
    "Also, the Canadian Vintners Association bought a lot of ads on the site, so any wines from Canada should automatically get 3 stars, regardless of points.\n",
    "\n",
    "Create a series `star_ratings` with the number of stars corresponding to each review in the dataset."
   ]
  },
  {
   "cell_type": "code",
   "execution_count": 15,
   "id": "6f36f10d",
   "metadata": {
    "execution": {
     "iopub.execute_input": "2022-09-13T15:34:51.699282Z",
     "iopub.status.busy": "2022-09-13T15:34:51.698487Z",
     "iopub.status.idle": "2022-09-13T15:34:55.692526Z",
     "shell.execute_reply": "2022-09-13T15:34:55.691405Z"
    },
    "papermill": {
     "duration": 4.005943,
     "end_time": "2022-09-13T15:34:55.694925",
     "exception": false,
     "start_time": "2022-09-13T15:34:51.688982",
     "status": "completed"
    },
    "tags": []
   },
   "outputs": [
    {
     "data": {
      "application/javascript": [
       "parent.postMessage({\"jupyterEvent\": \"custom.exercise_interaction\", \"data\": {\"outcomeType\": 1, \"valueTowardsCompletion\": 0.14285714285714285, \"interactionType\": 1, \"questionType\": 1, \"questionId\": \"7_StarRatings\", \"learnToolsVersion\": \"0.3.4\", \"failureMessage\": \"\", \"exceptionClass\": \"\", \"trace\": \"\"}}, \"*\")"
      ],
      "text/plain": [
       "<IPython.core.display.Javascript object>"
      ]
     },
     "metadata": {},
     "output_type": "display_data"
    },
    {
     "data": {
      "text/markdown": [
       "<span style=\"color:#33cc33\">Correct</span>"
      ],
      "text/plain": [
       "Correct"
      ]
     },
     "metadata": {},
     "output_type": "display_data"
    }
   ],
   "source": [
    "def stars(row):\n",
    "    if row.country == 'Canada':\n",
    "        return 3\n",
    "    elif row.points >= 95:\n",
    "        return 3\n",
    "    elif row.points >= 85:\n",
    "        return 2\n",
    "    else:\n",
    "        return 1\n",
    "\n",
    "star_ratings = reviews.apply(stars, axis='columns')\n",
    "\n",
    "# Check your answer\n",
    "q7.check()"
   ]
  },
  {
   "cell_type": "code",
   "execution_count": 16,
   "id": "a205df44",
   "metadata": {
    "execution": {
     "iopub.execute_input": "2022-09-13T15:34:55.713244Z",
     "iopub.status.busy": "2022-09-13T15:34:55.712849Z",
     "iopub.status.idle": "2022-09-13T15:34:55.717671Z",
     "shell.execute_reply": "2022-09-13T15:34:55.716534Z"
    },
    "papermill": {
     "duration": 0.01682,
     "end_time": "2022-09-13T15:34:55.719999",
     "exception": false,
     "start_time": "2022-09-13T15:34:55.703179",
     "status": "completed"
    },
    "tags": []
   },
   "outputs": [],
   "source": [
    "#q7.hint()\n",
    "#q7.solution()"
   ]
  },
  {
   "cell_type": "markdown",
   "id": "92067a62",
   "metadata": {
    "papermill": {
     "duration": 0.007934,
     "end_time": "2022-09-13T15:34:55.736521",
     "exception": false,
     "start_time": "2022-09-13T15:34:55.728587",
     "status": "completed"
    },
    "tags": []
   },
   "source": [
    "# Keep going\n",
    "Continue to **[grouping and sorting](https://www.kaggle.com/residentmario/grouping-and-sorting)**."
   ]
  },
  {
   "cell_type": "markdown",
   "id": "3399a2c2",
   "metadata": {
    "papermill": {
     "duration": 0.007998,
     "end_time": "2022-09-13T15:34:55.752784",
     "exception": false,
     "start_time": "2022-09-13T15:34:55.744786",
     "status": "completed"
    },
    "tags": []
   },
   "source": [
    "---\n",
    "\n",
    "\n",
    "\n",
    "\n",
    "*Have questions or comments? Visit the [course discussion forum](https://www.kaggle.com/learn/pandas/discussion) to chat with other learners.*"
   ]
  }
 ],
 "metadata": {
  "kernelspec": {
   "display_name": "Python 3",
   "language": "python",
   "name": "python3"
  },
  "language_info": {
   "codemirror_mode": {
    "name": "ipython",
    "version": 3
   },
   "file_extension": ".py",
   "mimetype": "text/x-python",
   "name": "python",
   "nbconvert_exporter": "python",
   "pygments_lexer": "ipython3",
   "version": "3.7.12"
  },
  "papermill": {
   "default_parameters": {},
   "duration": 22.000258,
   "end_time": "2022-09-13T15:34:56.483971",
   "environment_variables": {},
   "exception": null,
   "input_path": "__notebook__.ipynb",
   "output_path": "__notebook__.ipynb",
   "parameters": {},
   "start_time": "2022-09-13T15:34:34.483713",
   "version": "2.3.4"
  }
 },
 "nbformat": 4,
 "nbformat_minor": 5
}
