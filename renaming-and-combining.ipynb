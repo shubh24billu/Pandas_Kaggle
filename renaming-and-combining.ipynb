{
 "cells": [
  {
   "cell_type": "markdown",
   "id": "83639130",
   "metadata": {
    "papermill": {
     "duration": 0.006448,
     "end_time": "2022-09-14T14:50:43.624893",
     "exception": false,
     "start_time": "2022-09-14T14:50:43.618445",
     "status": "completed"
    },
    "tags": []
   },
   "source": [
    "**This notebook is an exercise in the [Pandas](https://www.kaggle.com/learn/pandas) course.  You can reference the tutorial at [this link](https://www.kaggle.com/residentmario/renaming-and-combining).**\n",
    "\n",
    "---\n"
   ]
  },
  {
   "cell_type": "markdown",
   "id": "8c396daa",
   "metadata": {
    "papermill": {
     "duration": 0.004858,
     "end_time": "2022-09-14T14:50:43.635159",
     "exception": false,
     "start_time": "2022-09-14T14:50:43.630301",
     "status": "completed"
    },
    "tags": []
   },
   "source": [
    "# Introduction\n",
    "\n",
    "Run the following cell to load your data and some utility functions."
   ]
  },
  {
   "cell_type": "code",
   "execution_count": 1,
   "id": "36b800b3",
   "metadata": {
    "execution": {
     "iopub.execute_input": "2022-09-14T14:50:43.647989Z",
     "iopub.status.busy": "2022-09-14T14:50:43.647126Z",
     "iopub.status.idle": "2022-09-14T14:50:47.874466Z",
     "shell.execute_reply": "2022-09-14T14:50:47.872837Z"
    },
    "papermill": {
     "duration": 4.237108,
     "end_time": "2022-09-14T14:50:47.877392",
     "exception": false,
     "start_time": "2022-09-14T14:50:43.640284",
     "status": "completed"
    },
    "tags": []
   },
   "outputs": [
    {
     "name": "stdout",
     "output_type": "stream",
     "text": [
      "Setup complete.\n"
     ]
    }
   ],
   "source": [
    "import pandas as pd\n",
    "\n",
    "reviews = pd.read_csv(\"../input/wine-reviews/winemag-data-130k-v2.csv\", index_col=0)\n",
    "\n",
    "from learntools.core import binder; binder.bind(globals())\n",
    "from learntools.pandas.renaming_and_combining import *\n",
    "print(\"Setup complete.\")"
   ]
  },
  {
   "cell_type": "markdown",
   "id": "ee290a98",
   "metadata": {
    "papermill": {
     "duration": 0.005223,
     "end_time": "2022-09-14T14:50:47.888159",
     "exception": false,
     "start_time": "2022-09-14T14:50:47.882936",
     "status": "completed"
    },
    "tags": []
   },
   "source": [
    "# Exercises\n",
    "\n",
    "View the first several lines of your data by running the cell below:"
   ]
  },
  {
   "cell_type": "code",
   "execution_count": 2,
   "id": "be5b7567",
   "metadata": {
    "execution": {
     "iopub.execute_input": "2022-09-14T14:50:47.900284Z",
     "iopub.status.busy": "2022-09-14T14:50:47.899880Z",
     "iopub.status.idle": "2022-09-14T14:50:47.924592Z",
     "shell.execute_reply": "2022-09-14T14:50:47.923739Z"
    },
    "papermill": {
     "duration": 0.033372,
     "end_time": "2022-09-14T14:50:47.926790",
     "exception": false,
     "start_time": "2022-09-14T14:50:47.893418",
     "status": "completed"
    },
    "tags": []
   },
   "outputs": [
    {
     "data": {
      "text/html": [
       "<div>\n",
       "<style scoped>\n",
       "    .dataframe tbody tr th:only-of-type {\n",
       "        vertical-align: middle;\n",
       "    }\n",
       "\n",
       "    .dataframe tbody tr th {\n",
       "        vertical-align: top;\n",
       "    }\n",
       "\n",
       "    .dataframe thead th {\n",
       "        text-align: right;\n",
       "    }\n",
       "</style>\n",
       "<table border=\"1\" class=\"dataframe\">\n",
       "  <thead>\n",
       "    <tr style=\"text-align: right;\">\n",
       "      <th></th>\n",
       "      <th>country</th>\n",
       "      <th>description</th>\n",
       "      <th>designation</th>\n",
       "      <th>points</th>\n",
       "      <th>price</th>\n",
       "      <th>province</th>\n",
       "      <th>region_1</th>\n",
       "      <th>region_2</th>\n",
       "      <th>taster_name</th>\n",
       "      <th>taster_twitter_handle</th>\n",
       "      <th>title</th>\n",
       "      <th>variety</th>\n",
       "      <th>winery</th>\n",
       "    </tr>\n",
       "  </thead>\n",
       "  <tbody>\n",
       "    <tr>\n",
       "      <th>0</th>\n",
       "      <td>Italy</td>\n",
       "      <td>Aromas include tropical fruit, broom, brimston...</td>\n",
       "      <td>Vulkà Bianco</td>\n",
       "      <td>87</td>\n",
       "      <td>NaN</td>\n",
       "      <td>Sicily &amp; Sardinia</td>\n",
       "      <td>Etna</td>\n",
       "      <td>NaN</td>\n",
       "      <td>Kerin O’Keefe</td>\n",
       "      <td>@kerinokeefe</td>\n",
       "      <td>Nicosia 2013 Vulkà Bianco  (Etna)</td>\n",
       "      <td>White Blend</td>\n",
       "      <td>Nicosia</td>\n",
       "    </tr>\n",
       "    <tr>\n",
       "      <th>1</th>\n",
       "      <td>Portugal</td>\n",
       "      <td>This is ripe and fruity, a wine that is smooth...</td>\n",
       "      <td>Avidagos</td>\n",
       "      <td>87</td>\n",
       "      <td>15.0</td>\n",
       "      <td>Douro</td>\n",
       "      <td>NaN</td>\n",
       "      <td>NaN</td>\n",
       "      <td>Roger Voss</td>\n",
       "      <td>@vossroger</td>\n",
       "      <td>Quinta dos Avidagos 2011 Avidagos Red (Douro)</td>\n",
       "      <td>Portuguese Red</td>\n",
       "      <td>Quinta dos Avidagos</td>\n",
       "    </tr>\n",
       "    <tr>\n",
       "      <th>2</th>\n",
       "      <td>US</td>\n",
       "      <td>Tart and snappy, the flavors of lime flesh and...</td>\n",
       "      <td>NaN</td>\n",
       "      <td>87</td>\n",
       "      <td>14.0</td>\n",
       "      <td>Oregon</td>\n",
       "      <td>Willamette Valley</td>\n",
       "      <td>Willamette Valley</td>\n",
       "      <td>Paul Gregutt</td>\n",
       "      <td>@paulgwine</td>\n",
       "      <td>Rainstorm 2013 Pinot Gris (Willamette Valley)</td>\n",
       "      <td>Pinot Gris</td>\n",
       "      <td>Rainstorm</td>\n",
       "    </tr>\n",
       "    <tr>\n",
       "      <th>3</th>\n",
       "      <td>US</td>\n",
       "      <td>Pineapple rind, lemon pith and orange blossom ...</td>\n",
       "      <td>Reserve Late Harvest</td>\n",
       "      <td>87</td>\n",
       "      <td>13.0</td>\n",
       "      <td>Michigan</td>\n",
       "      <td>Lake Michigan Shore</td>\n",
       "      <td>NaN</td>\n",
       "      <td>Alexander Peartree</td>\n",
       "      <td>NaN</td>\n",
       "      <td>St. Julian 2013 Reserve Late Harvest Riesling ...</td>\n",
       "      <td>Riesling</td>\n",
       "      <td>St. Julian</td>\n",
       "    </tr>\n",
       "    <tr>\n",
       "      <th>4</th>\n",
       "      <td>US</td>\n",
       "      <td>Much like the regular bottling from 2012, this...</td>\n",
       "      <td>Vintner's Reserve Wild Child Block</td>\n",
       "      <td>87</td>\n",
       "      <td>65.0</td>\n",
       "      <td>Oregon</td>\n",
       "      <td>Willamette Valley</td>\n",
       "      <td>Willamette Valley</td>\n",
       "      <td>Paul Gregutt</td>\n",
       "      <td>@paulgwine</td>\n",
       "      <td>Sweet Cheeks 2012 Vintner's Reserve Wild Child...</td>\n",
       "      <td>Pinot Noir</td>\n",
       "      <td>Sweet Cheeks</td>\n",
       "    </tr>\n",
       "  </tbody>\n",
       "</table>\n",
       "</div>"
      ],
      "text/plain": [
       "    country                                        description  \\\n",
       "0     Italy  Aromas include tropical fruit, broom, brimston...   \n",
       "1  Portugal  This is ripe and fruity, a wine that is smooth...   \n",
       "2        US  Tart and snappy, the flavors of lime flesh and...   \n",
       "3        US  Pineapple rind, lemon pith and orange blossom ...   \n",
       "4        US  Much like the regular bottling from 2012, this...   \n",
       "\n",
       "                          designation  points  price           province  \\\n",
       "0                        Vulkà Bianco      87    NaN  Sicily & Sardinia   \n",
       "1                            Avidagos      87   15.0              Douro   \n",
       "2                                 NaN      87   14.0             Oregon   \n",
       "3                Reserve Late Harvest      87   13.0           Michigan   \n",
       "4  Vintner's Reserve Wild Child Block      87   65.0             Oregon   \n",
       "\n",
       "              region_1           region_2         taster_name  \\\n",
       "0                 Etna                NaN       Kerin O’Keefe   \n",
       "1                  NaN                NaN          Roger Voss   \n",
       "2    Willamette Valley  Willamette Valley        Paul Gregutt   \n",
       "3  Lake Michigan Shore                NaN  Alexander Peartree   \n",
       "4    Willamette Valley  Willamette Valley        Paul Gregutt   \n",
       "\n",
       "  taster_twitter_handle                                              title  \\\n",
       "0          @kerinokeefe                  Nicosia 2013 Vulkà Bianco  (Etna)   \n",
       "1            @vossroger      Quinta dos Avidagos 2011 Avidagos Red (Douro)   \n",
       "2           @paulgwine       Rainstorm 2013 Pinot Gris (Willamette Valley)   \n",
       "3                   NaN  St. Julian 2013 Reserve Late Harvest Riesling ...   \n",
       "4           @paulgwine   Sweet Cheeks 2012 Vintner's Reserve Wild Child...   \n",
       "\n",
       "          variety               winery  \n",
       "0     White Blend              Nicosia  \n",
       "1  Portuguese Red  Quinta dos Avidagos  \n",
       "2      Pinot Gris            Rainstorm  \n",
       "3        Riesling           St. Julian  \n",
       "4      Pinot Noir         Sweet Cheeks  "
      ]
     },
     "execution_count": 2,
     "metadata": {},
     "output_type": "execute_result"
    }
   ],
   "source": [
    "reviews.head()"
   ]
  },
  {
   "cell_type": "markdown",
   "id": "545fab65",
   "metadata": {
    "papermill": {
     "duration": 0.005533,
     "end_time": "2022-09-14T14:50:47.938300",
     "exception": false,
     "start_time": "2022-09-14T14:50:47.932767",
     "status": "completed"
    },
    "tags": []
   },
   "source": [
    "## 1.\n",
    "`region_1` and `region_2` are pretty uninformative names for locale columns in the dataset. Create a copy of `reviews` with these columns renamed to `region` and `locale`, respectively."
   ]
  },
  {
   "cell_type": "code",
   "execution_count": 3,
   "id": "9fa17b90",
   "metadata": {
    "execution": {
     "iopub.execute_input": "2022-09-14T14:50:47.952558Z",
     "iopub.status.busy": "2022-09-14T14:50:47.951943Z",
     "iopub.status.idle": "2022-09-14T14:50:47.987533Z",
     "shell.execute_reply": "2022-09-14T14:50:47.986450Z"
    },
    "papermill": {
     "duration": 0.045847,
     "end_time": "2022-09-14T14:50:47.989952",
     "exception": false,
     "start_time": "2022-09-14T14:50:47.944105",
     "status": "completed"
    },
    "tags": []
   },
   "outputs": [
    {
     "data": {
      "application/javascript": [
       "parent.postMessage({\"jupyterEvent\": \"custom.exercise_interaction\", \"data\": {\"outcomeType\": 1, \"valueTowardsCompletion\": 0.25, \"interactionType\": 1, \"questionType\": 1, \"questionId\": \"1_RenameCols\", \"learnToolsVersion\": \"0.3.4\", \"failureMessage\": \"\", \"exceptionClass\": \"\", \"trace\": \"\"}}, \"*\")"
      ],
      "text/plain": [
       "<IPython.core.display.Javascript object>"
      ]
     },
     "metadata": {},
     "output_type": "display_data"
    },
    {
     "data": {
      "text/markdown": [
       "<span style=\"color:#33cc33\">Correct</span>"
      ],
      "text/plain": [
       "Correct"
      ]
     },
     "metadata": {},
     "output_type": "display_data"
    }
   ],
   "source": [
    "# Your code here\n",
    "renamed = reviews.rename(columns={'region_1': 'region','region_2':'locale'})\n",
    "\n",
    "# Check your answer\n",
    "q1.check()"
   ]
  },
  {
   "cell_type": "code",
   "execution_count": 4,
   "id": "e61f66ee",
   "metadata": {
    "execution": {
     "iopub.execute_input": "2022-09-14T14:50:48.003605Z",
     "iopub.status.busy": "2022-09-14T14:50:48.003245Z",
     "iopub.status.idle": "2022-09-14T14:50:48.007428Z",
     "shell.execute_reply": "2022-09-14T14:50:48.006588Z"
    },
    "papermill": {
     "duration": 0.013702,
     "end_time": "2022-09-14T14:50:48.009490",
     "exception": false,
     "start_time": "2022-09-14T14:50:47.995788",
     "status": "completed"
    },
    "tags": []
   },
   "outputs": [],
   "source": [
    "#q1.hint()\n",
    "#q1.solution()"
   ]
  },
  {
   "cell_type": "markdown",
   "id": "ee6d81f7",
   "metadata": {
    "papermill": {
     "duration": 0.005474,
     "end_time": "2022-09-14T14:50:48.020789",
     "exception": false,
     "start_time": "2022-09-14T14:50:48.015315",
     "status": "completed"
    },
    "tags": []
   },
   "source": [
    "## 2.\n",
    "Set the index name in the dataset to `wines`."
   ]
  },
  {
   "cell_type": "code",
   "execution_count": 5,
   "id": "14ca299d",
   "metadata": {
    "execution": {
     "iopub.execute_input": "2022-09-14T14:50:48.034395Z",
     "iopub.status.busy": "2022-09-14T14:50:48.033409Z",
     "iopub.status.idle": "2022-09-14T14:50:48.069762Z",
     "shell.execute_reply": "2022-09-14T14:50:48.068749Z"
    },
    "papermill": {
     "duration": 0.045369,
     "end_time": "2022-09-14T14:50:48.071830",
     "exception": false,
     "start_time": "2022-09-14T14:50:48.026461",
     "status": "completed"
    },
    "tags": []
   },
   "outputs": [
    {
     "data": {
      "application/javascript": [
       "parent.postMessage({\"jupyterEvent\": \"custom.exercise_interaction\", \"data\": {\"outcomeType\": 1, \"valueTowardsCompletion\": 0.25, \"interactionType\": 1, \"questionType\": 1, \"questionId\": \"2_RenameIndex\", \"learnToolsVersion\": \"0.3.4\", \"failureMessage\": \"\", \"exceptionClass\": \"\", \"trace\": \"\"}}, \"*\")"
      ],
      "text/plain": [
       "<IPython.core.display.Javascript object>"
      ]
     },
     "metadata": {},
     "output_type": "display_data"
    },
    {
     "data": {
      "text/markdown": [
       "<span style=\"color:#33cc33\">Correct</span>"
      ],
      "text/plain": [
       "Correct"
      ]
     },
     "metadata": {},
     "output_type": "display_data"
    }
   ],
   "source": [
    "reindexed = reviews.rename_axis('wines',axis=1)\n",
    "\n",
    "# Check your answer\n",
    "q2.check()"
   ]
  },
  {
   "cell_type": "code",
   "execution_count": 6,
   "id": "dd7100f4",
   "metadata": {
    "execution": {
     "iopub.execute_input": "2022-09-14T14:50:48.086773Z",
     "iopub.status.busy": "2022-09-14T14:50:48.086348Z",
     "iopub.status.idle": "2022-09-14T14:50:48.091412Z",
     "shell.execute_reply": "2022-09-14T14:50:48.090450Z"
    },
    "papermill": {
     "duration": 0.015434,
     "end_time": "2022-09-14T14:50:48.093644",
     "exception": false,
     "start_time": "2022-09-14T14:50:48.078210",
     "status": "completed"
    },
    "tags": []
   },
   "outputs": [],
   "source": [
    "#q2.hint()\n",
    "#q2.solution()"
   ]
  },
  {
   "cell_type": "markdown",
   "id": "08b8f8a3",
   "metadata": {
    "papermill": {
     "duration": 0.005957,
     "end_time": "2022-09-14T14:50:48.105958",
     "exception": false,
     "start_time": "2022-09-14T14:50:48.100001",
     "status": "completed"
    },
    "tags": []
   },
   "source": [
    "## 3.\n",
    "The [Things on Reddit](https://www.kaggle.com/residentmario/things-on-reddit/data) dataset includes product links from a selection of top-ranked forums (\"subreddits\") on reddit.com. Run the cell below to load a dataframe of products mentioned on the */r/gaming* subreddit and another dataframe for products mentioned on the *r//movies* subreddit."
   ]
  },
  {
   "cell_type": "code",
   "execution_count": 7,
   "id": "bd0bfc83",
   "metadata": {
    "execution": {
     "iopub.execute_input": "2022-09-14T14:50:48.120515Z",
     "iopub.status.busy": "2022-09-14T14:50:48.119448Z",
     "iopub.status.idle": "2022-09-14T14:50:48.135341Z",
     "shell.execute_reply": "2022-09-14T14:50:48.134085Z"
    },
    "papermill": {
     "duration": 0.025875,
     "end_time": "2022-09-14T14:50:48.137992",
     "exception": false,
     "start_time": "2022-09-14T14:50:48.112117",
     "status": "completed"
    },
    "tags": []
   },
   "outputs": [],
   "source": [
    "gaming_products = pd.read_csv(\"../input/things-on-reddit/top-things/top-things/reddits/g/gaming.csv\")\n",
    "gaming_products['subreddit'] = \"r/gaming\"\n",
    "movie_products = pd.read_csv(\"../input/things-on-reddit/top-things/top-things/reddits/m/movies.csv\")\n",
    "movie_products['subreddit'] = \"r/movies\""
   ]
  },
  {
   "cell_type": "markdown",
   "id": "b71b2501",
   "metadata": {
    "papermill": {
     "duration": 0.00667,
     "end_time": "2022-09-14T14:50:48.150933",
     "exception": false,
     "start_time": "2022-09-14T14:50:48.144263",
     "status": "completed"
    },
    "tags": []
   },
   "source": [
    "Create a `DataFrame` of products mentioned on *either* subreddit."
   ]
  },
  {
   "cell_type": "code",
   "execution_count": 8,
   "id": "adf9a0dc",
   "metadata": {
    "execution": {
     "iopub.execute_input": "2022-09-14T14:50:48.164882Z",
     "iopub.status.busy": "2022-09-14T14:50:48.164351Z",
     "iopub.status.idle": "2022-09-14T14:50:48.177000Z",
     "shell.execute_reply": "2022-09-14T14:50:48.176180Z"
    },
    "papermill": {
     "duration": 0.021979,
     "end_time": "2022-09-14T14:50:48.179004",
     "exception": false,
     "start_time": "2022-09-14T14:50:48.157025",
     "status": "completed"
    },
    "tags": []
   },
   "outputs": [
    {
     "data": {
      "application/javascript": [
       "parent.postMessage({\"jupyterEvent\": \"custom.exercise_interaction\", \"data\": {\"outcomeType\": 1, \"valueTowardsCompletion\": 0.25, \"interactionType\": 1, \"questionType\": 2, \"questionId\": \"3_ConcatReddit\", \"learnToolsVersion\": \"0.3.4\", \"failureMessage\": \"\", \"exceptionClass\": \"\", \"trace\": \"\"}}, \"*\")"
      ],
      "text/plain": [
       "<IPython.core.display.Javascript object>"
      ]
     },
     "metadata": {},
     "output_type": "display_data"
    },
    {
     "data": {
      "text/markdown": [
       "<span style=\"color:#33cc33\">Correct</span>"
      ],
      "text/plain": [
       "Correct"
      ]
     },
     "metadata": {},
     "output_type": "display_data"
    }
   ],
   "source": [
    "combined_products = pd.concat([gaming_products, movie_products])\n",
    "\n",
    "# Check your answer\n",
    "q3.check()"
   ]
  },
  {
   "cell_type": "code",
   "execution_count": 9,
   "id": "dde368cd",
   "metadata": {
    "execution": {
     "iopub.execute_input": "2022-09-14T14:50:48.193793Z",
     "iopub.status.busy": "2022-09-14T14:50:48.193091Z",
     "iopub.status.idle": "2022-09-14T14:50:48.196778Z",
     "shell.execute_reply": "2022-09-14T14:50:48.195980Z"
    },
    "papermill": {
     "duration": 0.013553,
     "end_time": "2022-09-14T14:50:48.198996",
     "exception": false,
     "start_time": "2022-09-14T14:50:48.185443",
     "status": "completed"
    },
    "tags": []
   },
   "outputs": [],
   "source": [
    "#q3.hint()\n",
    "#q3.solution()"
   ]
  },
  {
   "cell_type": "markdown",
   "id": "64e999ef",
   "metadata": {
    "papermill": {
     "duration": 0.006229,
     "end_time": "2022-09-14T14:50:48.212134",
     "exception": false,
     "start_time": "2022-09-14T14:50:48.205905",
     "status": "completed"
    },
    "tags": []
   },
   "source": [
    "## 4.\n",
    "The [Powerlifting Database](https://www.kaggle.com/open-powerlifting/powerlifting-database) dataset on Kaggle includes one CSV table for powerlifting meets and a separate one for powerlifting competitors. Run the cell below to load these datasets into dataframes:"
   ]
  },
  {
   "cell_type": "code",
   "execution_count": 10,
   "id": "99d8c651",
   "metadata": {
    "execution": {
     "iopub.execute_input": "2022-09-14T14:50:48.227163Z",
     "iopub.status.busy": "2022-09-14T14:50:48.226454Z",
     "iopub.status.idle": "2022-09-14T14:50:48.964362Z",
     "shell.execute_reply": "2022-09-14T14:50:48.963259Z"
    },
    "papermill": {
     "duration": 0.748236,
     "end_time": "2022-09-14T14:50:48.966951",
     "exception": false,
     "start_time": "2022-09-14T14:50:48.218715",
     "status": "completed"
    },
    "tags": []
   },
   "outputs": [],
   "source": [
    "powerlifting_meets = pd.read_csv(\"../input/powerlifting-database/meets.csv\")\n",
    "powerlifting_competitors = pd.read_csv(\"../input/powerlifting-database/openpowerlifting.csv\")"
   ]
  },
  {
   "cell_type": "markdown",
   "id": "3017bd02",
   "metadata": {
    "papermill": {
     "duration": 0.006334,
     "end_time": "2022-09-14T14:50:48.979836",
     "exception": false,
     "start_time": "2022-09-14T14:50:48.973502",
     "status": "completed"
    },
    "tags": []
   },
   "source": [
    "Both tables include references to a `MeetID`, a unique key for each meet (competition) included in the database. Using this, generate a dataset combining the two tables into one."
   ]
  },
  {
   "cell_type": "code",
   "execution_count": 11,
   "id": "354aa2ce",
   "metadata": {
    "execution": {
     "iopub.execute_input": "2022-09-14T14:50:48.994648Z",
     "iopub.status.busy": "2022-09-14T14:50:48.994256Z",
     "iopub.status.idle": "2022-09-14T14:50:50.036991Z",
     "shell.execute_reply": "2022-09-14T14:50:50.035760Z"
    },
    "papermill": {
     "duration": 1.054574,
     "end_time": "2022-09-14T14:50:50.040899",
     "exception": false,
     "start_time": "2022-09-14T14:50:48.986325",
     "status": "completed"
    },
    "tags": []
   },
   "outputs": [
    {
     "data": {
      "application/javascript": [
       "parent.postMessage({\"jupyterEvent\": \"custom.exercise_interaction\", \"data\": {\"outcomeType\": 1, \"valueTowardsCompletion\": 0.25, \"interactionType\": 1, \"questionType\": 2, \"questionId\": \"4_JoinLifting\", \"learnToolsVersion\": \"0.3.4\", \"failureMessage\": \"\", \"exceptionClass\": \"\", \"trace\": \"\"}}, \"*\")"
      ],
      "text/plain": [
       "<IPython.core.display.Javascript object>"
      ]
     },
     "metadata": {},
     "output_type": "display_data"
    },
    {
     "data": {
      "text/markdown": [
       "<span style=\"color:#33cc33\">Correct</span>"
      ],
      "text/plain": [
       "Correct"
      ]
     },
     "metadata": {},
     "output_type": "display_data"
    }
   ],
   "source": [
    "powerlifting_combined = powerlifting_meets.set_index(\"MeetID\").join(powerlifting_competitors.set_index(\"MeetID\"))\n",
    "\n",
    "# Check your answer\n",
    "q4.check()"
   ]
  },
  {
   "cell_type": "code",
   "execution_count": 12,
   "id": "38504c8e",
   "metadata": {
    "execution": {
     "iopub.execute_input": "2022-09-14T14:50:50.055798Z",
     "iopub.status.busy": "2022-09-14T14:50:50.055363Z",
     "iopub.status.idle": "2022-09-14T14:50:50.060352Z",
     "shell.execute_reply": "2022-09-14T14:50:50.059103Z"
    },
    "papermill": {
     "duration": 0.015213,
     "end_time": "2022-09-14T14:50:50.062646",
     "exception": false,
     "start_time": "2022-09-14T14:50:50.047433",
     "status": "completed"
    },
    "tags": []
   },
   "outputs": [],
   "source": [
    "#q4.hint()\n",
    "#q4.solution()"
   ]
  },
  {
   "cell_type": "markdown",
   "id": "c791cc28",
   "metadata": {
    "papermill": {
     "duration": 0.006351,
     "end_time": "2022-09-14T14:50:50.075860",
     "exception": false,
     "start_time": "2022-09-14T14:50:50.069509",
     "status": "completed"
    },
    "tags": []
   },
   "source": [
    "# Congratulations!\n",
    "\n",
    "You've finished the Pandas micro-course.  Many data scientists feel efficiency with Pandas is the most useful and practical skill they have, because it allows you to progress quickly in any project you have.\n",
    "\n",
    "If you'd like to apply your new skills to examining geospatial data, you're encouraged to check out our **[Geospatial Analysis](https://www.kaggle.com/learn/geospatial-analysis)** micro-course.\n",
    "\n",
    "You can also take advantage of your Pandas skills by entering a **[Kaggle Competition](https://www.kaggle.com/competitions)** or by answering a question you find interesting using **[Kaggle Datasets](https://www.kaggle.com/datasets)**."
   ]
  },
  {
   "cell_type": "markdown",
   "id": "a057aadd",
   "metadata": {
    "papermill": {
     "duration": 0.006369,
     "end_time": "2022-09-14T14:50:50.088872",
     "exception": false,
     "start_time": "2022-09-14T14:50:50.082503",
     "status": "completed"
    },
    "tags": []
   },
   "source": [
    "---\n",
    "\n",
    "\n",
    "\n",
    "\n",
    "*Have questions or comments? Visit the [course discussion forum](https://www.kaggle.com/learn/pandas/discussion) to chat with other learners.*"
   ]
  }
 ],
 "metadata": {
  "kernelspec": {
   "display_name": "Python 3",
   "language": "python",
   "name": "python3"
  },
  "language_info": {
   "codemirror_mode": {
    "name": "ipython",
    "version": 3
   },
   "file_extension": ".py",
   "mimetype": "text/x-python",
   "name": "python",
   "nbconvert_exporter": "python",
   "pygments_lexer": "ipython3",
   "version": "3.7.12"
  },
  "papermill": {
   "default_parameters": {},
   "duration": 16.603236,
   "end_time": "2022-09-14T14:50:50.817041",
   "environment_variables": {},
   "exception": null,
   "input_path": "__notebook__.ipynb",
   "output_path": "__notebook__.ipynb",
   "parameters": {},
   "start_time": "2022-09-14T14:50:34.213805",
   "version": "2.3.4"
  }
 },
 "nbformat": 4,
 "nbformat_minor": 5
}
